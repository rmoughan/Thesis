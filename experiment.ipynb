{
  "nbformat": 4,
  "nbformat_minor": 0,
  "metadata": {
    "colab": {
      "name": "experiment.ipynb",
      "provenance": [],
      "collapsed_sections": []
    },
    "kernelspec": {
      "name": "python3",
      "display_name": "Python 3"
    },
    "accelerator": "GPU"
  },
  "cells": [
    {
      "cell_type": "markdown",
      "metadata": {
        "id": "CO_N3-dcoOkS",
        "colab_type": "text"
      },
      "source": [
        "# Set Up Directory"
      ]
    },
    {
      "cell_type": "code",
      "metadata": {
        "id": "F_GtP7udm1Cy",
        "colab_type": "code",
        "colab": {
          "base_uri": "https://localhost:8080/",
          "height": 51
        },
        "outputId": "6cb63ec3-f4c2-40f4-d63b-a73ace551fa8"
      },
      "source": [
        "from google.colab import drive\n",
        "drive.mount('/drive/')\n",
        "%cd /drive/My\\ Drive/Colab\\ Notebooks/Thesis/codebase"
      ],
      "execution_count": 4,
      "outputs": [
        {
          "output_type": "stream",
          "text": [
            "Drive already mounted at /drive/; to attempt to forcibly remount, call drive.mount(\"/drive/\", force_remount=True).\n",
            "/drive/My Drive/Colab Notebooks/Thesis/codebase\n"
          ],
          "name": "stdout"
        }
      ]
    },
    {
      "cell_type": "markdown",
      "metadata": {
        "id": "iRE4TKI1oYP6",
        "colab_type": "text"
      },
      "source": [
        "# Load Libraries"
      ]
    },
    {
      "cell_type": "code",
      "metadata": {
        "id": "uCZo6sdvoaxo",
        "colab_type": "code",
        "colab": {
          "base_uri": "https://localhost:8080/",
          "height": 170
        },
        "outputId": "682b7e15-55ab-44ea-ed2d-e08b1f890085"
      },
      "source": [
        "#Note: Using pytorch 1.6.0 instead of 1.5.1 for ease of GPU use\n",
        "!pip install gym==0.17.2\n",
        "!pip install atari-py"
      ],
      "execution_count": 5,
      "outputs": [
        {
          "output_type": "stream",
          "text": [
            "Requirement already satisfied: gym==0.17.2 in /usr/local/lib/python3.6/dist-packages (0.17.2)\n",
            "Requirement already satisfied: pyglet<=1.5.0,>=1.4.0 in /usr/local/lib/python3.6/dist-packages (from gym==0.17.2) (1.5.0)\n",
            "Requirement already satisfied: cloudpickle<1.4.0,>=1.2.0 in /usr/local/lib/python3.6/dist-packages (from gym==0.17.2) (1.3.0)\n",
            "Requirement already satisfied: scipy in /usr/local/lib/python3.6/dist-packages (from gym==0.17.2) (1.4.1)\n",
            "Requirement already satisfied: numpy>=1.10.4 in /usr/local/lib/python3.6/dist-packages (from gym==0.17.2) (1.18.5)\n",
            "Requirement already satisfied: future in /usr/local/lib/python3.6/dist-packages (from pyglet<=1.5.0,>=1.4.0->gym==0.17.2) (0.16.0)\n",
            "Requirement already satisfied: atari-py in /usr/local/lib/python3.6/dist-packages (0.2.6)\n",
            "Requirement already satisfied: six in /usr/local/lib/python3.6/dist-packages (from atari-py) (1.15.0)\n",
            "Requirement already satisfied: numpy in /usr/local/lib/python3.6/dist-packages (from atari-py) (1.18.5)\n"
          ],
          "name": "stdout"
        }
      ]
    },
    {
      "cell_type": "markdown",
      "metadata": {
        "id": "x4EM_p2Aoa95",
        "colab_type": "text"
      },
      "source": [
        "# Run Experiments"
      ]
    },
    {
      "cell_type": "code",
      "metadata": {
        "id": "NZL7RLXBnk4c",
        "colab_type": "code",
        "colab": {
          "base_uri": "https://localhost:8080/",
          "height": 51
        },
        "outputId": "7a80f0c5-5cd3-48ca-f444-f55291f1cb40"
      },
      "source": [
        "!python train.py configs/montezuma_test.txt"
      ],
      "execution_count": 6,
      "outputs": [
        {
          "output_type": "stream",
          "text": [
            "Device:  Tesla T4\n",
            "^C\n"
          ],
          "name": "stdout"
        }
      ]
    },
    {
      "cell_type": "markdown",
      "metadata": {
        "id": "3imi23jz6Cm8",
        "colab_type": "text"
      },
      "source": [
        "**Keep Session Active**"
      ]
    },
    {
      "cell_type": "markdown",
      "metadata": {
        "id": "I21fz7F427-k",
        "colab_type": "text"
      },
      "source": [
        "function ClickConnect(){\n",
        "console.log(\"Working\"); \n",
        "document.querySelector(\"colab-toolbar-button#connect\").click() \n",
        "}\n",
        "setInterval(ClickConnect,60000)"
      ]
    }
  ]
}